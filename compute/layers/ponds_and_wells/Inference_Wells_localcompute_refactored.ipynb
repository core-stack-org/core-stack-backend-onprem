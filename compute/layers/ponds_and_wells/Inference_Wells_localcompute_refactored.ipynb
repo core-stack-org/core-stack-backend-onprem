{
 "cells": [
  {
   "cell_type": "markdown",
   "id": "4yvyzdtTw1_O",
   "metadata": {
    "id": "4yvyzdtTw1_O",
    "jp-MarkdownHeadingCollapsed": true
   },
   "source": [
    "# Necessary Steps"
   ]
  },
  {
   "cell_type": "code",
   "execution_count": null,
   "id": "s86UT7CbZ7u6",
   "metadata": {
    "colab": {
     "base_uri": "https://localhost:8080/"
    },
    "executionInfo": {
     "elapsed": 97321,
     "status": "ok",
     "timestamp": 1737461825209,
     "user": {
      "displayName": "ICTD IITD",
      "userId": "11419946949516230456"
     },
     "user_tz": -330
    },
    "id": "s86UT7CbZ7u6",
    "outputId": "fe75cf75-cb99-46cf-d320-5c9088005e5f"
   },
   "outputs": [],
   "source": [
    "#from google.colab import drive\n",
    "#drive.mount('/content/drive')"
   ]
  },
  {
   "cell_type": "code",
   "execution_count": null,
   "id": "Mk8wo4294sqE",
   "metadata": {
    "colab": {
     "base_uri": "https://localhost:8080/"
    },
    "executionInfo": {
     "elapsed": 3472,
     "status": "ok",
     "timestamp": 1737461828677,
     "user": {
      "displayName": "ICTD IITD",
      "userId": "11419946949516230456"
     },
     "user_tz": -330
    },
    "id": "Mk8wo4294sqE",
    "outputId": "623378b3-2087-400a-f831-6631c74d539f"
   },
   "outputs": [],
   "source": [
    "# !pip install -U ultralytics"
   ]
  },
  {
   "cell_type": "code",
   "execution_count": 1,
   "id": "lw8ZKR4_4sic",
   "metadata": {
    "colab": {
     "base_uri": "https://localhost:8080/"
    },
    "executionInfo": {
     "elapsed": 10375,
     "status": "ok",
     "timestamp": 1737461839049,
     "user": {
      "displayName": "ICTD IITD",
      "userId": "11419946949516230456"
     },
     "user_tz": -330
    },
    "id": "lw8ZKR4_4sic",
    "outputId": "4bb4ac2d-62af-404c-8645-5e617cc777e4"
   },
   "outputs": [],
   "source": [
    "import json\n",
    "import os\n",
    "import cv2\n",
    "import matplotlib.pyplot as plt\n",
    "import numpy as np\n",
    "import shutil\n",
    "from random import choice\n",
    "import re\n",
    "import csv\n",
    "import zipfile\n",
    "import pandas as pd\n",
    "import glob\n",
    "import math\n",
    "import geopandas as gpd\n",
    "from shapely.geometry import shape\n",
    "from shapely.geometry import Polygon\n",
    "from ultralytics import YOLO\n",
    "from PIL import Image\n",
    "import requests\n",
    "import time\n",
    "import os\n",
    "from ultralytics import YOLO\n",
    "from skimage.filters.rank import entropy\n",
    "from skimage.morphology import disk\n",
    "from skimage.util import img_as_ubyte\n",
    "from shapely.geometry import box"
   ]
  },
  {
   "cell_type": "markdown",
   "id": "RWtC0gO4wEP2",
   "metadata": {
    "id": "RWtC0gO4wEP2",
    "jp-MarkdownHeadingCollapsed": true
   },
   "source": [
    "# Download Data for Inference"
   ]
  },
  {
   "cell_type": "markdown",
   "id": "91211a4d",
   "metadata": {},
   "source": [
    "### 1. Specify input region \n",
    "        a. geojson, or\n",
    "        b. bounding box coordinates"
   ]
  },
  {
   "cell_type": "raw",
   "id": "6de2c51c-8c8e-4412-bb44-bfdef10907da",
   "metadata": {},
   "source": [
    "Get Bounding boxes automatically from GeoJSON instead of manually drawing on GEE"
   ]
  },
  {
   "cell_type": "code",
   "execution_count": 3,
   "id": "e0ae05a5-25bb-4a4b-acfa-357c17c7730a",
   "metadata": {},
   "outputs": [],
   "source": [
    "# gdf = gpd.read_file(\"Shapefiles/Masalia_mws.geojson\")"
   ]
  },
  {
   "cell_type": "code",
   "execution_count": 4,
   "id": "c2ff6f4f-ed13-493c-8bef-50f11841ed11",
   "metadata": {},
   "outputs": [],
   "source": [
    "# # Compute the bounding box\n",
    "# minx, miny, maxx, maxy = gdf.total_bounds\n",
    "\n",
    "# # Create a bounding box polygon\n",
    "# bounding_box = gpd.GeoDataFrame(geometry=[box(minx, miny, maxx, maxy)], crs=gdf.crs)\n",
    "\n",
    "# # Plot the geometry and the updated bounding box\n",
    "# fig, ax = plt.subplots(figsize=(10, 6))\n",
    "# gdf.plot(ax=ax, color=\"blue\", alpha=0.5, edgecolor=\"black\")\n",
    "# bounding_box.plot(ax=ax, edgecolor=\"red\", facecolor=\"none\", linewidth=2)\n",
    "\n",
    "# plt.show()"
   ]
  },
  {
   "cell_type": "code",
   "execution_count": 5,
   "id": "890a8c04-0bee-4bc1-8949-8741010f8f5f",
   "metadata": {},
   "outputs": [],
   "source": [
    "# # Get the bounding box coordinates\n",
    "# minx, miny, maxx, maxy = gdf.total_bounds\n",
    "\n",
    "# # Define bounding box points\n",
    "# topLeft = [minx, maxy]\n",
    "# topRight = [maxx, maxy]\n",
    "# bottomRight = [maxx, miny]\n",
    "# bottomLeft = [minx, miny]\n",
    "\n",
    "# # Print the coordinates\n",
    "# print(f\"topLeft = {topLeft}\")\n",
    "# print(f\"topRight = {topRight}\")\n",
    "# print(f\"bottomRight = {bottomRight}\")\n",
    "# print(f\"bottomLeft = {bottomLeft}\")"
   ]
  },
  {
   "cell_type": "markdown",
   "id": "q-FEeBI3wMdD",
   "metadata": {
    "id": "q-FEeBI3wMdD"
   },
   "source": [
    "NOT NEEDED ANYMORE - Give coordinated of the bounding box drawn on GEE"
   ]
  },
  {
   "cell_type": "code",
   "execution_count": null,
   "id": "TFwJ3YnJwJZK",
   "metadata": {
    "id": "TFwJ3YnJwJZK"
   },
   "outputs": [],
   "source": [
    "\"\"\"\n",
    "#coords for the bounding box (boipariguda)\n",
    "topLeft = [82.07347488402685,18.57110542069261]\n",
    "topRight = [82.60081863402685,18.57110542069261]\n",
    "bottomRight = [82.60081863402685,18.9572939770273]\n",
    "bottomLeft = [82.07347488402685,18.9572939770273]\n",
    "\"\"\"\n",
    "\n",
    "# topLeft = [87.17428199198116,24.153542533932317]\n",
    "# topRight = [87.1763419285046,24.153542533932317]\n",
    "# bottomRight = [87.1763419285046,24.15520674659833]\n",
    "# bottomLeft = [87.17428199198116,24.15520674659833] #no wells or ponds\n",
    "\n",
    "topLeft = [87.17053768466987,24.139038123063]\n",
    "topRight = [87.17703935932197,24.139038123063]\n",
    "bottomRight = [87.17703935932197,24.143874618138323]\n",
    "bottomLeft = [87.17053768466987,24.143874618138323] #one pond atleast"
   ]
  },
  {
   "cell_type": "markdown",
   "id": "f9405508",
   "metadata": {},
   "source": [
    "1. get bounding box of region of interest\n",
    "2. "
   ]
  },
  {
   "cell_type": "markdown",
   "id": "oFaaB2enwd1S",
   "metadata": {
    "id": "oFaaB2enwd1S"
   },
   "source": [
    "Zoom Level and folder name, where the output (image tiles) will be saved"
   ]
  },
  {
   "cell_type": "code",
   "execution_count": 31,
   "id": "gBe0gXYgwct7",
   "metadata": {
    "id": "gBe0gXYgwct7"
   },
   "outputs": [
    {
     "data": {
      "text/plain": [
       "'/home/nirzaree/Data/ponds_and_wells/18/around_masalia'"
      ]
     },
     "execution_count": 31,
     "metadata": {},
     "output_type": "execute_result"
    }
   ],
   "source": [
    "zoom_level = 18    \n",
    "block_name = 'around_masalia' #'masalia_subset'\n",
    "data_download_folder = os.path.join(os.environ['DATA'],\n",
    "                                    'ponds_and_wells',\n",
    "                                    str(zoom_level),\n",
    "                                    block_name)\n",
    "data_download_folder"
   ]
  },
  {
   "cell_type": "code",
   "execution_count": 32,
   "id": "6PUmTAcbwJIq",
   "metadata": {
    "id": "6PUmTAcbwJIq"
   },
   "outputs": [],
   "source": [
    "def deg2num(lat_deg, lon_deg, zoom):\n",
    "    lat_rad = math.radians(lat_deg)\n",
    "    n = 2.0 ** zoom\n",
    "    xtile = int((lon_deg + 180.0) / 360.0 * n)\n",
    "    ytile = int((1.0 - math.log(math.tan(lat_rad) + (1 / math.cos(lat_rad))) / math.pi) / 2.0 * n)\n",
    "    return (xtile, ytile)\n",
    "\n",
    "def getCoords(zoomLevel):\n",
    "    topleft = deg2num(topLeft[1], topLeft[0], zoomLevel)  # (c,b)\n",
    "    topright = deg2num(topRight[1], topRight[0], zoomLevel)  # (a,b)\n",
    "    bottomright = deg2num(bottomRight[1], bottomRight[0], zoomLevel)  # (a,d)\n",
    "    bottomleft = deg2num(bottomLeft[1], bottomLeft[0], zoomLevel)  # (c,d)\n",
    "    xmin = min(topleft[0], topright[0], bottomleft[0], bottomright[0])\n",
    "    xmax = max(topleft[0], topright[0], bottomleft[0], bottomright[0])\n",
    "    ymin = min(topleft[1], topright[1], bottomleft[1], bottomright[1])\n",
    "    ymax = max(topleft[1], topright[1], bottomleft[1], bottomright[1])\n",
    "    return (xmin, xmax, ymin, ymax)\n",
    "\n",
    "def download_map_tiles(base_url, output_folder, zoom_level, scale):\n",
    "    # Ensure output folder exists\n",
    "    os.makedirs(output_folder, exist_ok=True)\n",
    "\n",
    "    # Get start time\n",
    "    start_time = time.time()\n",
    "\n",
    "    # Iterate over each tile within the specified range\n",
    "    xmin, xmax, ymin, ymax = getCoords(zoom_level)\n",
    "    for x in range(xmin, xmax + 1):\n",
    "        for y in range(ymin, ymax + 1):\n",
    "            # Construct the URL for the current tile with scale=3 for 640x640\n",
    "            tile_url = f\"{base_url}&x={x}&y={y}&z={zoom_level}&scale={scale}\"\n",
    "            print(tile_url)\n",
    "            try:\n",
    "                # Send HTTP GET request to fetch the tile\n",
    "                response = requests.get(tile_url)\n",
    "\n",
    "                # Check if request was successful (status code 200)\n",
    "                if response.status_code == 200:\n",
    "                    # Save the tile image to a file in the output folder\n",
    "                    filename = f\"tile_{zoom_level}_{x}_{y}.png\"\n",
    "                    filepath = os.path.join(output_folder, filename)\n",
    "                    with open(filepath, \"wb\") as f:\n",
    "                        f.write(response.content)\n",
    "                    print(f\"Downloaded: {filename}\")\n",
    "                else:\n",
    "                    print(f\"Failed to download tile ({x}, {y}), HTTP status code: {response.status_code}\")\n",
    "\n",
    "            except Exception as e:\n",
    "                print(f\"Error downloading tile ({x}, {y}): {e}\")\n",
    "\n",
    "    # Get end time\n",
    "    end_time = time.time()\n",
    "\n",
    "    # Print the total execution time\n",
    "    print(f\"Total time taken: {end_time - start_time} seconds\")"
   ]
  },
  {
   "cell_type": "code",
   "execution_count": 33,
   "id": "pNtTiywlwVYC",
   "metadata": {
    "id": "pNtTiywlwVYC"
   },
   "outputs": [
    {
     "name": "stdout",
     "output_type": "stream",
     "text": [
      "Created the folder: /home/nirzaree/Data/ponds_and_wells/18/around_masalia\n"
     ]
    }
   ],
   "source": [
    "base_url = \"https://mt1.google.com/vt/lyrs=s\"\n",
    "scale = 1           # scale of 1 = 256*256 dimensional image\n",
    "\n",
    "if not os.path.exists(data_download_folder):\n",
    "    os.makedirs(data_download_folder)\n",
    "    print(f\"Created the folder: {data_download_folder}\")\n",
    "else:\n",
    "    print(f\"The folder already exists: {data_download_folder}\")"
   ]
  },
  {
   "cell_type": "code",
   "execution_count": 35,
   "id": "tAzJ_LGSwVVi",
   "metadata": {
    "id": "tAzJ_LGSwVVi"
   },
   "outputs": [
    {
     "name": "stdout",
     "output_type": "stream",
     "text": [
      "https://mt1.google.com/vt/lyrs=s&x=194547&y=112946&z=18&scale=1\n",
      "Downloaded: tile_18_194547_112946.png\n",
      "https://mt1.google.com/vt/lyrs=s&x=194547&y=112947&z=18&scale=1\n",
      "Downloaded: tile_18_194547_112947.png\n",
      "https://mt1.google.com/vt/lyrs=s&x=194547&y=112948&z=18&scale=1\n",
      "Downloaded: tile_18_194547_112948.png\n",
      "https://mt1.google.com/vt/lyrs=s&x=194547&y=112949&z=18&scale=1\n",
      "Downloaded: tile_18_194547_112949.png\n",
      "https://mt1.google.com/vt/lyrs=s&x=194547&y=112950&z=18&scale=1\n",
      "Downloaded: tile_18_194547_112950.png\n",
      "https://mt1.google.com/vt/lyrs=s&x=194548&y=112946&z=18&scale=1\n",
      "Downloaded: tile_18_194548_112946.png\n",
      "https://mt1.google.com/vt/lyrs=s&x=194548&y=112947&z=18&scale=1\n",
      "Downloaded: tile_18_194548_112947.png\n",
      "https://mt1.google.com/vt/lyrs=s&x=194548&y=112948&z=18&scale=1\n",
      "Downloaded: tile_18_194548_112948.png\n",
      "https://mt1.google.com/vt/lyrs=s&x=194548&y=112949&z=18&scale=1\n",
      "Downloaded: tile_18_194548_112949.png\n",
      "https://mt1.google.com/vt/lyrs=s&x=194548&y=112950&z=18&scale=1\n",
      "Downloaded: tile_18_194548_112950.png\n",
      "https://mt1.google.com/vt/lyrs=s&x=194549&y=112946&z=18&scale=1\n",
      "Downloaded: tile_18_194549_112946.png\n",
      "https://mt1.google.com/vt/lyrs=s&x=194549&y=112947&z=18&scale=1\n",
      "Downloaded: tile_18_194549_112947.png\n",
      "https://mt1.google.com/vt/lyrs=s&x=194549&y=112948&z=18&scale=1\n",
      "Downloaded: tile_18_194549_112948.png\n",
      "https://mt1.google.com/vt/lyrs=s&x=194549&y=112949&z=18&scale=1\n",
      "Downloaded: tile_18_194549_112949.png\n",
      "https://mt1.google.com/vt/lyrs=s&x=194549&y=112950&z=18&scale=1\n",
      "Downloaded: tile_18_194549_112950.png\n",
      "https://mt1.google.com/vt/lyrs=s&x=194550&y=112946&z=18&scale=1\n",
      "Downloaded: tile_18_194550_112946.png\n",
      "https://mt1.google.com/vt/lyrs=s&x=194550&y=112947&z=18&scale=1\n",
      "Downloaded: tile_18_194550_112947.png\n",
      "https://mt1.google.com/vt/lyrs=s&x=194550&y=112948&z=18&scale=1\n",
      "Downloaded: tile_18_194550_112948.png\n",
      "https://mt1.google.com/vt/lyrs=s&x=194550&y=112949&z=18&scale=1\n",
      "Downloaded: tile_18_194550_112949.png\n",
      "https://mt1.google.com/vt/lyrs=s&x=194550&y=112950&z=18&scale=1\n",
      "Downloaded: tile_18_194550_112950.png\n",
      "https://mt1.google.com/vt/lyrs=s&x=194551&y=112946&z=18&scale=1\n",
      "Downloaded: tile_18_194551_112946.png\n",
      "https://mt1.google.com/vt/lyrs=s&x=194551&y=112947&z=18&scale=1\n",
      "Downloaded: tile_18_194551_112947.png\n",
      "https://mt1.google.com/vt/lyrs=s&x=194551&y=112948&z=18&scale=1\n",
      "Downloaded: tile_18_194551_112948.png\n",
      "https://mt1.google.com/vt/lyrs=s&x=194551&y=112949&z=18&scale=1\n",
      "Downloaded: tile_18_194551_112949.png\n",
      "https://mt1.google.com/vt/lyrs=s&x=194551&y=112950&z=18&scale=1\n",
      "Downloaded: tile_18_194551_112950.png\n",
      "https://mt1.google.com/vt/lyrs=s&x=194552&y=112946&z=18&scale=1\n",
      "Downloaded: tile_18_194552_112946.png\n",
      "https://mt1.google.com/vt/lyrs=s&x=194552&y=112947&z=18&scale=1\n",
      "Downloaded: tile_18_194552_112947.png\n",
      "https://mt1.google.com/vt/lyrs=s&x=194552&y=112948&z=18&scale=1\n",
      "Downloaded: tile_18_194552_112948.png\n",
      "https://mt1.google.com/vt/lyrs=s&x=194552&y=112949&z=18&scale=1\n",
      "Downloaded: tile_18_194552_112949.png\n",
      "https://mt1.google.com/vt/lyrs=s&x=194552&y=112950&z=18&scale=1\n",
      "Downloaded: tile_18_194552_112950.png\n",
      "Total time taken: 2.3616673946380615 seconds\n"
     ]
    }
   ],
   "source": [
    "download_map_tiles(base_url, data_download_folder, zoom_level, scale);"
   ]
  },
  {
   "cell_type": "markdown",
   "id": "6XJeWZ1Mm7r4",
   "metadata": {
    "id": "6XJeWZ1Mm7r4"
   },
   "source": [
    "# SAVE PREDICTIONS IN CSV"
   ]
  },
  {
   "cell_type": "markdown",
   "id": "nK7MUjry2rUX",
   "metadata": {
    "id": "nK7MUjry2rUX"
   },
   "source": [
    "Initialize model and parameters"
   ]
  },
  {
   "cell_type": "code",
   "execution_count": null,
   "id": "9ab562b0",
   "metadata": {},
   "outputs": [],
   "source": [
    "# os.environ['GITCLONES'] = '/home/nirzaree/Code/GitClones/'\n",
    "# os.environ['MODELS'] = '/home/nirzaree/Models/' "
   ]
  },
  {
   "cell_type": "code",
   "execution_count": 36,
   "id": "ac8ae66a",
   "metadata": {},
   "outputs": [
    {
     "data": {
      "text/plain": [
       "'/home/nirzaree/Models/Wells_best.pt'"
      ]
     },
     "execution_count": 36,
     "metadata": {},
     "output_type": "execute_result"
    }
   ],
   "source": [
    "os.path.join(os.environ['MODELS'],'Wells_best.pt')"
   ]
  },
  {
   "cell_type": "code",
   "execution_count": 37,
   "id": "ltVrlZJqYwmi",
   "metadata": {
    "id": "ltVrlZJqYwmi"
   },
   "outputs": [
    {
     "name": "stdout",
     "output_type": "stream",
     "text": [
      "/home/nirzaree/Data/ponds_and_wells/18/around_masalia/around_masalia.csv\n"
     ]
    }
   ],
   "source": [
    "model_path = os.path.join(os.environ['MODELS'],\n",
    "                          'ponds_and_wells',\n",
    "                          'Wells_best.pt')\n",
    "\n",
    "csv_file = os.path.join(\n",
    "    data_download_folder,\n",
    "    block_name + \n",
    "    '.csv'\n",
    ")\n",
    "print(csv_file)"
   ]
  },
  {
   "cell_type": "code",
   "execution_count": 38,
   "id": "YPlNd6oRiIOU",
   "metadata": {
    "id": "YPlNd6oRiIOU"
   },
   "outputs": [],
   "source": [
    "# Define class-specific confidence thresholds\n",
    "conf_thresholds = {\n",
    "    'Wells': 0.71,\n",
    "}\n",
    "\n",
    "# Class names (ensure these match the order used in your model training)\n",
    "class_names = [\n",
    "    'Wells',\n",
    "\n",
    "]\n",
    "\n",
    "# Mapping of class names to abbreviations\n",
    "class_abbreviations = {\n",
    "    'Wells': 'W',\n",
    "\n",
    "}"
   ]
  },
  {
   "cell_type": "markdown",
   "id": "0-jdfCwYnUxQ",
   "metadata": {
    "id": "0-jdfCwYnUxQ"
   },
   "source": [
    "Load the model"
   ]
  },
  {
   "cell_type": "code",
   "execution_count": 39,
   "id": "CFxzVndBnrFh",
   "metadata": {
    "id": "CFxzVndBnrFh"
   },
   "outputs": [],
   "source": [
    "my_new_model = YOLO(model_path)"
   ]
  },
  {
   "cell_type": "markdown",
   "id": "NOuYYLEtoIFU",
   "metadata": {
    "id": "NOuYYLEtoIFU"
   },
   "source": [
    "FUNCTIONS"
   ]
  },
  {
   "cell_type": "code",
   "execution_count": 40,
   "id": "jS-Ny2QNnsfE",
   "metadata": {
    "id": "jS-Ny2QNnsfE"
   },
   "outputs": [],
   "source": [
    "def process_image(image_path, conf_thresholds):\n",
    "    img = cv2.imread(image_path)\n",
    "    if img is None:\n",
    "        print(f\"Error: Unable to load image {image_path}\")\n",
    "        return None, None, None, None, None\n",
    "\n",
    "    results = my_new_model.predict(img)\n",
    "\n",
    "    polygons = []\n",
    "    pred_classes = []\n",
    "    conf_scores = []\n",
    "\n",
    "    if results[0].masks is not None:\n",
    "        for i, (polygon, cls, conf) in enumerate(zip(results[0].masks.xy, results[0].boxes.cls.cpu().numpy(), results[0].boxes.conf.cpu().numpy())):\n",
    "            class_name = class_names[int(cls)]\n",
    "            if conf >= conf_thresholds[class_name]:\n",
    "                polygons.append(polygon)\n",
    "                pred_classes.append(class_name)\n",
    "                conf_scores.append(conf)\n",
    "\n",
    "    # Print only when detections are made\n",
    "    if len(polygons) == 0:\n",
    "        print(f\"No detections in {image_path}\")\n",
    "    else:\n",
    "        print(f\"Detections found in {image_path}: {len(polygons)} polygons\")\n",
    "\n",
    "    return image_path, len(polygons), polygons, pred_classes, conf_scores\n",
    "\n",
    "\n",
    "def extract_xtile_ytile(image_path):\n",
    "    try:\n",
    "        basename = os.path.basename(image_path)\n",
    "        parts = basename.split('_')\n",
    "        if len(parts) >= 4:\n",
    "            xtile = int(parts[2])\n",
    "            ytile = int(parts[3].split('.')[0].split()[0])\n",
    "            return xtile, ytile\n",
    "        else:\n",
    "            raise ValueError(\"Filename does not contain valid tile coordinates\")\n",
    "    except Exception as e:\n",
    "        raise ValueError(f\"Filename {image_path} does not contain valid tile coordinates: {e}\")\n",
    "\n",
    "\n",
    "def tile_corners_to_latlon(xtile, ytile, zoom):\n",
    "    n = 2.0 ** zoom\n",
    "    lon_deg = xtile / n * 360.0 - 180.0\n",
    "    lat_rad_nw = math.atan(math.sinh(math.pi * (1 - 2 * (ytile / n))))\n",
    "    lat_deg_nw = math.degrees(lat_rad_nw)\n",
    "\n",
    "    lat_rad_se = math.atan(math.sinh(math.pi * (1 - 2 * ((ytile + 1) / n))))\n",
    "    lat_deg_se = math.degrees(lat_rad_se)\n",
    "\n",
    "    lat_deg_nw = max(min(lat_deg_nw, 85.0511), -85.0511)\n",
    "    lat_deg_se = max(min(lat_deg_se, 85.0511), -85.0511)\n",
    "\n",
    "    top_left = (lat_deg_nw, lon_deg)\n",
    "    top_right = (lat_deg_nw, lon_deg + (360.0 / n))\n",
    "    bottom_right = (lat_deg_se, lon_deg + (360.0 / n))\n",
    "    bottom_left = (lat_deg_se, lon_deg)\n",
    "\n",
    "    return top_left, top_right, bottom_left, bottom_right\n",
    "\n",
    "def calculate_tile_center(top_left, top_right, bottom_left, bottom_right):\n",
    "    center_lat = (top_left[0] + bottom_left[0]) / 2\n",
    "    center_lon = (top_left[1] + top_right[1]) / 2\n",
    "    return (center_lat, center_lon)\n",
    "\n",
    "def visualize_polygons(image_path, polygons, pred_classes, conf_scores):\n",
    "    img = cv2.imread(image_path)\n",
    "    if img is None:\n",
    "        print(f\"Error: Unable to load image {image_path}\")\n",
    "        return\n",
    "\n",
    "    if len(polygons) == 0:\n",
    "        print(f\"No predictions for image {image_path}, not saving.\")\n",
    "        return\n",
    "\n",
    "    for i, polygon in enumerate(polygons):\n",
    "        polygon = np.array(polygon, dtype=np.int32)\n",
    "        polygon = polygon.reshape((-1, 1, 2))\n",
    "        cv2.polylines(img, [polygon], isClosed=True, color=(0, 255, 0), thickness=2)\n",
    "\n",
    "        # Calculate the centroid of the polygon for placing the text\n",
    "        M = cv2.moments(polygon)\n",
    "        if M[\"m00\"] != 0:\n",
    "            cX = int(M[\"m10\"] / M[\"m00\"])\n",
    "            cY = int(M[\"m01\"] / M[\"m00\"])\n",
    "        else:\n",
    "            cX, cY = polygon[0][0]\n",
    "\n",
    "        # Put class abbreviation and confidence score text on the image\n",
    "        class_abbr = class_abbreviations[pred_classes[i]]\n",
    "        conf_text = f\"{class_abbr}: {conf_scores[i]:.2f}\"\n",
    "        cv2.putText(img, conf_text, (cX, cY), cv2.FONT_HERSHEY_SIMPLEX, 0.5, (0, 0, 255), 2)\n",
    "\n",
    "    output_path = os.path.join(annotated_images_dir, os.path.basename(image_path))\n",
    "    cv2.imwrite(output_path, img)\n",
    "    print(f\"Annotated image saved to {output_path}\")"
   ]
  },
  {
   "cell_type": "markdown",
   "id": "NRIKTsyUoLiE",
   "metadata": {
    "id": "NRIKTsyUoLiE"
   },
   "source": [
    "Predictions"
   ]
  },
  {
   "cell_type": "code",
   "execution_count": 41,
   "id": "zNs0fFuloLAC",
   "metadata": {
    "colab": {
     "base_uri": "https://localhost:8080/",
     "height": 141
    },
    "executionInfo": {
     "elapsed": 120370,
     "status": "error",
     "timestamp": 1737462175535,
     "user": {
      "displayName": "ICTD IITD",
      "userId": "11419946949516230456"
     },
     "user_tz": -330
    },
    "id": "zNs0fFuloLAC",
    "outputId": "dafb84b6-9a17-4bd5-81d2-ab43cafcb8e2"
   },
   "outputs": [],
   "source": [
    "image_files = [os.path.join(data_download_folder, f) for f in os.listdir(data_download_folder) if os.path.isfile(os.path.join(data_download_folder, f))]"
   ]
  },
  {
   "cell_type": "code",
   "execution_count": 42,
   "id": "92a8e9e9-0d34-4e30-9d1c-e81e25b86bfa",
   "metadata": {},
   "outputs": [
    {
     "data": {
      "text/plain": [
       "30"
      ]
     },
     "execution_count": 42,
     "metadata": {},
     "output_type": "execute_result"
    }
   ],
   "source": [
    "len(image_files)"
   ]
  },
  {
   "cell_type": "code",
   "execution_count": 43,
   "id": "tI6EcvUNbkLO",
   "metadata": {
    "id": "tI6EcvUNbkLO"
   },
   "outputs": [
    {
     "name": "stdout",
     "output_type": "stream",
     "text": [
      "\n",
      "0: 256x256 (no detections), 213.3ms\n",
      "Speed: 1.1ms preprocess, 213.3ms inference, 0.2ms postprocess per image at shape (1, 3, 256, 256)\n",
      "No detections in /home/nirzaree/Data/ponds_and_wells/18/around_masalia/tile_18_194550_112948.png\n",
      "\n",
      "0: 256x256 (no detections), 213.0ms\n",
      "Speed: 0.6ms preprocess, 213.0ms inference, 0.3ms postprocess per image at shape (1, 3, 256, 256)\n",
      "No detections in /home/nirzaree/Data/ponds_and_wells/18/around_masalia/tile_18_194549_112946.png\n",
      "\n",
      "0: 256x256 2 Wellss, 206.7ms\n",
      "Speed: 0.7ms preprocess, 206.7ms inference, 2.1ms postprocess per image at shape (1, 3, 256, 256)\n",
      "No detections in /home/nirzaree/Data/ponds_and_wells/18/around_masalia/tile_18_194548_112947.png\n",
      "\n",
      "0: 256x256 1 Wells, 192.7ms\n",
      "Speed: 0.5ms preprocess, 192.7ms inference, 0.7ms postprocess per image at shape (1, 3, 256, 256)\n",
      "No detections in /home/nirzaree/Data/ponds_and_wells/18/around_masalia/tile_18_194547_112947.png\n",
      "\n",
      "0: 256x256 (no detections), 190.2ms\n",
      "Speed: 0.3ms preprocess, 190.2ms inference, 0.2ms postprocess per image at shape (1, 3, 256, 256)\n",
      "No detections in /home/nirzaree/Data/ponds_and_wells/18/around_masalia/tile_18_194551_112949.png\n",
      "\n",
      "0: 256x256 1 Wells, 204.0ms\n",
      "Speed: 0.3ms preprocess, 204.0ms inference, 0.8ms postprocess per image at shape (1, 3, 256, 256)\n",
      "No detections in /home/nirzaree/Data/ponds_and_wells/18/around_masalia/tile_18_194551_112948.png\n",
      "\n",
      "0: 256x256 (no detections), 205.1ms\n",
      "Speed: 0.2ms preprocess, 205.1ms inference, 0.2ms postprocess per image at shape (1, 3, 256, 256)\n",
      "No detections in /home/nirzaree/Data/ponds_and_wells/18/around_masalia/tile_18_194551_112946.png\n",
      "\n",
      "0: 256x256 3 Wellss, 209.4ms\n",
      "Speed: 0.5ms preprocess, 209.4ms inference, 1.0ms postprocess per image at shape (1, 3, 256, 256)\n",
      "No detections in /home/nirzaree/Data/ponds_and_wells/18/around_masalia/tile_18_194552_112950.png\n",
      "\n",
      "0: 256x256 (no detections), 204.7ms\n",
      "Speed: 0.3ms preprocess, 204.7ms inference, 0.2ms postprocess per image at shape (1, 3, 256, 256)\n",
      "No detections in /home/nirzaree/Data/ponds_and_wells/18/around_masalia/tile_18_194552_112949.png\n",
      "\n",
      "0: 256x256 (no detections), 210.2ms\n",
      "Speed: 0.4ms preprocess, 210.2ms inference, 0.3ms postprocess per image at shape (1, 3, 256, 256)\n",
      "No detections in /home/nirzaree/Data/ponds_and_wells/18/around_masalia/tile_18_194547_112950.png\n",
      "\n",
      "0: 256x256 (no detections), 208.8ms\n",
      "Speed: 0.4ms preprocess, 208.8ms inference, 0.3ms postprocess per image at shape (1, 3, 256, 256)\n",
      "No detections in /home/nirzaree/Data/ponds_and_wells/18/around_masalia/tile_18_194550_112949.png\n",
      "\n",
      "0: 256x256 (no detections), 207.8ms\n",
      "Speed: 0.4ms preprocess, 207.8ms inference, 0.3ms postprocess per image at shape (1, 3, 256, 256)\n",
      "No detections in /home/nirzaree/Data/ponds_and_wells/18/around_masalia/tile_18_194548_112948.png\n",
      "\n",
      "0: 256x256 (no detections), 214.5ms\n",
      "Speed: 0.4ms preprocess, 214.5ms inference, 0.3ms postprocess per image at shape (1, 3, 256, 256)\n",
      "No detections in /home/nirzaree/Data/ponds_and_wells/18/around_masalia/tile_18_194548_112949.png\n",
      "\n",
      "0: 256x256 1 Wells, 209.4ms\n",
      "Speed: 0.5ms preprocess, 209.4ms inference, 1.4ms postprocess per image at shape (1, 3, 256, 256)\n",
      "No detections in /home/nirzaree/Data/ponds_and_wells/18/around_masalia/tile_18_194547_112948.png\n",
      "\n",
      "0: 256x256 1 Wells, 213.7ms\n",
      "Speed: 0.5ms preprocess, 213.7ms inference, 1.1ms postprocess per image at shape (1, 3, 256, 256)\n",
      "No detections in /home/nirzaree/Data/ponds_and_wells/18/around_masalia/tile_18_194550_112946.png\n",
      "\n",
      "0: 256x256 1 Wells, 220.3ms\n",
      "Speed: 0.4ms preprocess, 220.3ms inference, 0.9ms postprocess per image at shape (1, 3, 256, 256)\n",
      "No detections in /home/nirzaree/Data/ponds_and_wells/18/around_masalia/tile_18_194552_112948.png\n",
      "\n",
      "0: 256x256 1 Wells, 227.4ms\n",
      "Speed: 0.5ms preprocess, 227.4ms inference, 0.8ms postprocess per image at shape (1, 3, 256, 256)\n",
      "No detections in /home/nirzaree/Data/ponds_and_wells/18/around_masalia/tile_18_194548_112950.png\n",
      "\n",
      "0: 256x256 (no detections), 213.9ms\n",
      "Speed: 0.2ms preprocess, 213.9ms inference, 0.2ms postprocess per image at shape (1, 3, 256, 256)\n",
      "No detections in /home/nirzaree/Data/ponds_and_wells/18/around_masalia/tile_18_194549_112947.png\n",
      "\n",
      "0: 256x256 (no detections), 220.4ms\n",
      "Speed: 0.4ms preprocess, 220.4ms inference, 0.3ms postprocess per image at shape (1, 3, 256, 256)\n",
      "No detections in /home/nirzaree/Data/ponds_and_wells/18/around_masalia/tile_18_194549_112948.png\n",
      "\n",
      "0: 256x256 (no detections), 216.4ms\n",
      "Speed: 0.4ms preprocess, 216.4ms inference, 0.3ms postprocess per image at shape (1, 3, 256, 256)\n",
      "No detections in /home/nirzaree/Data/ponds_and_wells/18/around_masalia/tile_18_194552_112946.png\n",
      "\n",
      "0: 256x256 1 Wells, 217.8ms\n",
      "Speed: 0.4ms preprocess, 217.8ms inference, 1.3ms postprocess per image at shape (1, 3, 256, 256)\n",
      "No detections in /home/nirzaree/Data/ponds_and_wells/18/around_masalia/tile_18_194550_112950.png\n",
      "\n",
      "0: 256x256 (no detections), 205.3ms\n",
      "Speed: 0.5ms preprocess, 205.3ms inference, 0.2ms postprocess per image at shape (1, 3, 256, 256)\n",
      "No detections in /home/nirzaree/Data/ponds_and_wells/18/around_masalia/tile_18_194549_112950.png\n",
      "\n",
      "0: 256x256 (no detections), 194.0ms\n",
      "Speed: 0.3ms preprocess, 194.0ms inference, 0.2ms postprocess per image at shape (1, 3, 256, 256)\n",
      "No detections in /home/nirzaree/Data/ponds_and_wells/18/around_masalia/tile_18_194547_112946.png\n",
      "\n",
      "0: 256x256 (no detections), 197.6ms\n",
      "Speed: 0.2ms preprocess, 197.6ms inference, 0.2ms postprocess per image at shape (1, 3, 256, 256)\n",
      "No detections in /home/nirzaree/Data/ponds_and_wells/18/around_masalia/tile_18_194552_112947.png\n",
      "\n",
      "0: 256x256 (no detections), 199.2ms\n",
      "Speed: 0.4ms preprocess, 199.2ms inference, 0.2ms postprocess per image at shape (1, 3, 256, 256)\n",
      "No detections in /home/nirzaree/Data/ponds_and_wells/18/around_masalia/tile_18_194551_112947.png\n",
      "\n",
      "0: 256x256 3 Wellss, 201.6ms\n",
      "Speed: 0.3ms preprocess, 201.6ms inference, 2.7ms postprocess per image at shape (1, 3, 256, 256)\n",
      "No detections in /home/nirzaree/Data/ponds_and_wells/18/around_masalia/tile_18_194551_112950.png\n",
      "\n",
      "0: 256x256 1 Wells, 202.4ms\n",
      "Speed: 0.7ms preprocess, 202.4ms inference, 1.5ms postprocess per image at shape (1, 3, 256, 256)\n",
      "No detections in /home/nirzaree/Data/ponds_and_wells/18/around_masalia/tile_18_194547_112949.png\n",
      "\n",
      "0: 256x256 1 Wells, 210.7ms\n",
      "Speed: 0.3ms preprocess, 210.7ms inference, 0.9ms postprocess per image at shape (1, 3, 256, 256)\n",
      "No detections in /home/nirzaree/Data/ponds_and_wells/18/around_masalia/tile_18_194548_112946.png\n",
      "\n",
      "0: 256x256 (no detections), 191.3ms\n",
      "Speed: 0.3ms preprocess, 191.3ms inference, 0.3ms postprocess per image at shape (1, 3, 256, 256)\n",
      "No detections in /home/nirzaree/Data/ponds_and_wells/18/around_masalia/tile_18_194549_112949.png\n",
      "\n",
      "0: 256x256 (no detections), 194.3ms\n",
      "Speed: 0.4ms preprocess, 194.3ms inference, 0.3ms postprocess per image at shape (1, 3, 256, 256)\n",
      "No detections in /home/nirzaree/Data/ponds_and_wells/18/around_masalia/tile_18_194550_112947.png\n",
      "\n",
      "0: 256x256 (no detections), 196.2ms\n",
      "Speed: 0.4ms preprocess, 196.2ms inference, 0.2ms postprocess per image at shape (1, 3, 256, 256)\n",
      "No detections in /home/nirzaree/Data/ponds_and_wells/18/around_masalia/tile_18_194550_112948.png\n",
      "\n",
      "0: 256x256 (no detections), 223.7ms\n",
      "Speed: 0.4ms preprocess, 223.7ms inference, 0.3ms postprocess per image at shape (1, 3, 256, 256)\n",
      "No detections in /home/nirzaree/Data/ponds_and_wells/18/around_masalia/tile_18_194549_112946.png\n",
      "\n",
      "0: 256x256 2 Wellss, 214.2ms\n",
      "Speed: 0.4ms preprocess, 214.2ms inference, 0.9ms postprocess per image at shape (1, 3, 256, 256)\n",
      "No detections in /home/nirzaree/Data/ponds_and_wells/18/around_masalia/tile_18_194548_112947.png\n",
      "\n",
      "0: 256x256 1 Wells, 208.9ms\n",
      "Speed: 0.2ms preprocess, 208.9ms inference, 1.3ms postprocess per image at shape (1, 3, 256, 256)\n",
      "No detections in /home/nirzaree/Data/ponds_and_wells/18/around_masalia/tile_18_194547_112947.png\n",
      "\n",
      "0: 256x256 (no detections), 201.4ms\n",
      "Speed: 0.4ms preprocess, 201.4ms inference, 0.3ms postprocess per image at shape (1, 3, 256, 256)\n",
      "No detections in /home/nirzaree/Data/ponds_and_wells/18/around_masalia/tile_18_194551_112949.png\n",
      "\n",
      "0: 256x256 1 Wells, 194.0ms\n",
      "Speed: 0.4ms preprocess, 194.0ms inference, 1.0ms postprocess per image at shape (1, 3, 256, 256)\n",
      "No detections in /home/nirzaree/Data/ponds_and_wells/18/around_masalia/tile_18_194551_112948.png\n",
      "\n",
      "0: 256x256 (no detections), 199.4ms\n",
      "Speed: 0.4ms preprocess, 199.4ms inference, 0.2ms postprocess per image at shape (1, 3, 256, 256)\n",
      "No detections in /home/nirzaree/Data/ponds_and_wells/18/around_masalia/tile_18_194551_112946.png\n",
      "\n",
      "0: 256x256 3 Wellss, 195.4ms\n",
      "Speed: 0.3ms preprocess, 195.4ms inference, 0.9ms postprocess per image at shape (1, 3, 256, 256)\n",
      "No detections in /home/nirzaree/Data/ponds_and_wells/18/around_masalia/tile_18_194552_112950.png\n",
      "\n",
      "0: 256x256 (no detections), 196.1ms\n",
      "Speed: 0.2ms preprocess, 196.1ms inference, 0.2ms postprocess per image at shape (1, 3, 256, 256)\n",
      "No detections in /home/nirzaree/Data/ponds_and_wells/18/around_masalia/tile_18_194552_112949.png\n",
      "\n",
      "0: 256x256 (no detections), 187.9ms\n",
      "Speed: 0.2ms preprocess, 187.9ms inference, 0.2ms postprocess per image at shape (1, 3, 256, 256)\n",
      "No detections in /home/nirzaree/Data/ponds_and_wells/18/around_masalia/tile_18_194547_112950.png\n",
      "\n",
      "0: 256x256 (no detections), 198.9ms\n",
      "Speed: 0.4ms preprocess, 198.9ms inference, 0.2ms postprocess per image at shape (1, 3, 256, 256)\n",
      "No detections in /home/nirzaree/Data/ponds_and_wells/18/around_masalia/tile_18_194550_112949.png\n",
      "\n",
      "0: 256x256 (no detections), 199.1ms\n",
      "Speed: 0.3ms preprocess, 199.1ms inference, 0.3ms postprocess per image at shape (1, 3, 256, 256)\n",
      "No detections in /home/nirzaree/Data/ponds_and_wells/18/around_masalia/tile_18_194548_112948.png\n",
      "\n",
      "0: 256x256 (no detections), 191.7ms\n",
      "Speed: 0.3ms preprocess, 191.7ms inference, 0.2ms postprocess per image at shape (1, 3, 256, 256)\n",
      "No detections in /home/nirzaree/Data/ponds_and_wells/18/around_masalia/tile_18_194548_112949.png\n",
      "\n",
      "0: 256x256 1 Wells, 189.7ms\n",
      "Speed: 0.3ms preprocess, 189.7ms inference, 0.9ms postprocess per image at shape (1, 3, 256, 256)\n",
      "No detections in /home/nirzaree/Data/ponds_and_wells/18/around_masalia/tile_18_194547_112948.png\n",
      "\n",
      "0: 256x256 1 Wells, 202.6ms\n",
      "Speed: 0.2ms preprocess, 202.6ms inference, 0.8ms postprocess per image at shape (1, 3, 256, 256)\n",
      "No detections in /home/nirzaree/Data/ponds_and_wells/18/around_masalia/tile_18_194550_112946.png\n",
      "\n",
      "0: 256x256 1 Wells, 206.2ms\n",
      "Speed: 0.3ms preprocess, 206.2ms inference, 0.8ms postprocess per image at shape (1, 3, 256, 256)\n",
      "No detections in /home/nirzaree/Data/ponds_and_wells/18/around_masalia/tile_18_194552_112948.png\n",
      "\n",
      "0: 256x256 1 Wells, 227.5ms\n",
      "Speed: 0.5ms preprocess, 227.5ms inference, 1.4ms postprocess per image at shape (1, 3, 256, 256)\n",
      "No detections in /home/nirzaree/Data/ponds_and_wells/18/around_masalia/tile_18_194548_112950.png\n",
      "\n",
      "0: 256x256 (no detections), 216.5ms\n",
      "Speed: 0.4ms preprocess, 216.5ms inference, 0.3ms postprocess per image at shape (1, 3, 256, 256)\n",
      "No detections in /home/nirzaree/Data/ponds_and_wells/18/around_masalia/tile_18_194549_112947.png\n",
      "\n",
      "0: 256x256 (no detections), 218.5ms\n",
      "Speed: 0.5ms preprocess, 218.5ms inference, 0.3ms postprocess per image at shape (1, 3, 256, 256)\n",
      "No detections in /home/nirzaree/Data/ponds_and_wells/18/around_masalia/tile_18_194549_112948.png\n",
      "\n",
      "0: 256x256 (no detections), 216.6ms\n",
      "Speed: 0.3ms preprocess, 216.6ms inference, 0.3ms postprocess per image at shape (1, 3, 256, 256)\n",
      "No detections in /home/nirzaree/Data/ponds_and_wells/18/around_masalia/tile_18_194552_112946.png\n",
      "\n",
      "0: 256x256 1 Wells, 195.7ms\n",
      "Speed: 0.3ms preprocess, 195.7ms inference, 0.7ms postprocess per image at shape (1, 3, 256, 256)\n",
      "No detections in /home/nirzaree/Data/ponds_and_wells/18/around_masalia/tile_18_194550_112950.png\n",
      "\n",
      "0: 256x256 (no detections), 199.7ms\n",
      "Speed: 0.3ms preprocess, 199.7ms inference, 0.2ms postprocess per image at shape (1, 3, 256, 256)\n",
      "No detections in /home/nirzaree/Data/ponds_and_wells/18/around_masalia/tile_18_194549_112950.png\n",
      "\n",
      "0: 256x256 (no detections), 217.8ms\n",
      "Speed: 0.4ms preprocess, 217.8ms inference, 0.2ms postprocess per image at shape (1, 3, 256, 256)\n",
      "No detections in /home/nirzaree/Data/ponds_and_wells/18/around_masalia/tile_18_194547_112946.png\n",
      "\n",
      "0: 256x256 (no detections), 211.9ms\n",
      "Speed: 0.4ms preprocess, 211.9ms inference, 0.2ms postprocess per image at shape (1, 3, 256, 256)\n",
      "No detections in /home/nirzaree/Data/ponds_and_wells/18/around_masalia/tile_18_194552_112947.png\n",
      "\n",
      "0: 256x256 (no detections), 212.0ms\n",
      "Speed: 0.4ms preprocess, 212.0ms inference, 0.3ms postprocess per image at shape (1, 3, 256, 256)\n",
      "No detections in /home/nirzaree/Data/ponds_and_wells/18/around_masalia/tile_18_194551_112947.png\n",
      "\n",
      "0: 256x256 3 Wellss, 199.8ms\n",
      "Speed: 0.4ms preprocess, 199.8ms inference, 0.9ms postprocess per image at shape (1, 3, 256, 256)\n",
      "No detections in /home/nirzaree/Data/ponds_and_wells/18/around_masalia/tile_18_194551_112950.png\n",
      "\n",
      "0: 256x256 1 Wells, 207.0ms\n",
      "Speed: 0.4ms preprocess, 207.0ms inference, 0.7ms postprocess per image at shape (1, 3, 256, 256)\n",
      "No detections in /home/nirzaree/Data/ponds_and_wells/18/around_masalia/tile_18_194547_112949.png\n",
      "\n",
      "0: 256x256 1 Wells, 196.8ms\n",
      "Speed: 0.3ms preprocess, 196.8ms inference, 1.2ms postprocess per image at shape (1, 3, 256, 256)\n",
      "No detections in /home/nirzaree/Data/ponds_and_wells/18/around_masalia/tile_18_194548_112946.png\n",
      "\n",
      "0: 256x256 (no detections), 223.2ms\n",
      "Speed: 0.5ms preprocess, 223.2ms inference, 0.3ms postprocess per image at shape (1, 3, 256, 256)\n",
      "No detections in /home/nirzaree/Data/ponds_and_wells/18/around_masalia/tile_18_194549_112949.png\n",
      "\n",
      "0: 256x256 (no detections), 213.1ms\n",
      "Speed: 0.5ms preprocess, 213.1ms inference, 0.3ms postprocess per image at shape (1, 3, 256, 256)\n",
      "No detections in /home/nirzaree/Data/ponds_and_wells/18/around_masalia/tile_18_194550_112947.png\n",
      "CSV file '/home/nirzaree/Data/ponds_and_wells/18/around_masalia/around_masalia.csv' saved successfully.\n",
      "Time taken to complete: 13.10 seconds.\n"
     ]
    }
   ],
   "source": [
    "# Start timing\n",
    "start_time = time.time()\n",
    "\n",
    "max_vertices = 0\n",
    "for image_path in image_files:\n",
    "    _, _, polygons, _, _ = process_image(image_path, conf_thresholds)\n",
    "    for polygon in polygons:\n",
    "        max_vertices = max(max_vertices, len(polygon))\n",
    "\n",
    "with open(csv_file, 'w', newline='') as csvfile:\n",
    "    csvwriter = csv.writer(csvfile)\n",
    "    header = [\"Image Path\", \"Predicted Class\", \"Center Latitude\", \"Center Longitude\",\n",
    "              \"Top Left Latitude\", \"Top Left Longitude\", \"Top Right Latitude\", \"Top Right Longitude\",\n",
    "              \"Bottom Left Latitude\", \"Bottom Left Longitude\", \"Bottom Right Latitude\", \"Bottom Right Longitude\"]\n",
    "    for i in range(1, max_vertices + 1):\n",
    "        header.extend([f'X_{i}', f'Y_{i}'])\n",
    "    csvwriter.writerow(header)\n",
    "\n",
    "    for image_path in image_files:\n",
    "        try:\n",
    "            image_path, num_polygons, polygons, pred_classes, _ = process_image(image_path, conf_thresholds)\n",
    "            if image_path is None:\n",
    "                continue\n",
    "\n",
    "            xtile, ytile = extract_xtile_ytile(image_path)\n",
    "            top_left, top_right, bottom_left, bottom_right = tile_corners_to_latlon(xtile, ytile, zoom_level)\n",
    "            latitude, longitude = calculate_tile_center(top_left, top_right, bottom_left, bottom_right)\n",
    "\n",
    "            for pred_class, polygon in zip(pred_classes, polygons):\n",
    "                row = [image_path, pred_class, latitude, longitude, top_left[0], top_left[1], top_right[0], top_right[1],\n",
    "                       bottom_left[0], bottom_left[1], bottom_right[0], bottom_right[1]]\n",
    "                for point in polygon:\n",
    "                    row.extend([point[0], point[1]])\n",
    "                csvwriter.writerow(row)\n",
    "        except ValueError as e:\n",
    "            print(e)\n",
    "            continue\n",
    "\n",
    "# End timing\n",
    "end_time = time.time()\n",
    "\n",
    "# Print the time taken\n",
    "time_taken = end_time - start_time\n",
    "print(f\"CSV file '{csv_file}' saved successfully.\")\n",
    "print(f\"Time taken to complete: {time_taken:.2f} seconds.\")"
   ]
  },
  {
   "cell_type": "markdown",
   "id": "7vBqqRJWDOxu",
   "metadata": {
    "id": "7vBqqRJWDOxu"
   },
   "source": [
    "# Convert to Geometry\n"
   ]
  },
  {
   "cell_type": "code",
   "execution_count": 44,
   "id": "bP5D_IBkdIsm",
   "metadata": {
    "id": "bP5D_IBkdIsm"
   },
   "outputs": [],
   "source": [
    "# Constants\n",
    "EARTH_CIRCUMFERENCE_DEGREES = 360  # degrees"
   ]
  },
  {
   "cell_type": "code",
   "execution_count": 45,
   "id": "mMMncfFKDVTL",
   "metadata": {
    "id": "mMMncfFKDVTL"
   },
   "outputs": [],
   "source": [
    "# Load the CSV file\n",
    "df = pd.read_csv(csv_file)\n",
    "\n",
    "df.rename(columns={'Predicted Class': 'Class'}, inplace=True)\n"
   ]
  },
  {
   "cell_type": "code",
   "execution_count": null,
   "id": "am5cwkEADgyr",
   "metadata": {
    "id": "am5cwkEADgyr"
   },
   "outputs": [
    {
     "name": "stdout",
     "output_type": "stream",
     "text": [
      "Empty GeoDataFrame\n",
      "Columns: [geometry]\n",
      "Index: []\n",
      "1.0728836059570312e-05\n"
     ]
    }
   ],
   "source": [
    "from shapely.geometry import Polygon, Point\n",
    "\n",
    "def degrees_per_pixel(zoom):\n",
    "    total_pixels = 256 * (2 ** zoom)\n",
    "    degrees_per_pixel = EARTH_CIRCUMFERENCE_DEGREES / total_pixels\n",
    "    return degrees_per_pixel\n",
    "\n",
    "def pixel_to_geo(x, y, lat_top_left, lon_top_left, lat_bottom_right, lon_bottom_right, img_width, img_height):\n",
    "    lon_range = lon_bottom_right - lon_top_left\n",
    "    lat_range = lat_top_left - lat_bottom_right  # Note: latitude decreases as you go south\n",
    "    lon = lon_top_left + (x / img_width) * lon_range\n",
    "    lat = lat_top_left - (y / img_height) * lat_range  # y increases downward in image coordinates\n",
    "    return lon, lat\n",
    "\n",
    "# Initialize an empty list to store GeoJSON features\n",
    "geojson_features = []\n",
    "\n",
    "# Iterate over each row in the dataframe\n",
    "for index, row in df.iterrows():\n",
    "    # Extract bounding coordinates of the image tile\n",
    "    lat_top_left = row['Top Left Latitude']\n",
    "    lon_top_left = row['Top Left Longitude']\n",
    "    lat_bottom_right = row['Bottom Right Latitude']\n",
    "    lon_bottom_right = row['Bottom Right Longitude']\n",
    "\n",
    "    tile_width, tile_height = 256, 256\n",
    "\n",
    "    # Initialize an empty list to store coordinates of the current object\n",
    "    object_coords = []\n",
    "\n",
    "    for i in range(1, 8759):  # Adjust this range according to your data\n",
    "        x_col = f'X_{i}'\n",
    "        y_col = f'Y_{i}'\n",
    "        if x_col in row and y_col in row:\n",
    "            x = row[x_col]\n",
    "            y = row[y_col]\n",
    "            if pd.notna(x) and pd.notna(y):\n",
    "                # Convert pixel coordinates to geographic coordinates\n",
    "                lon, lat = pixel_to_geo(x, y, lat_top_left, lon_top_left, lat_bottom_right, lon_bottom_right, tile_width, tile_height)\n",
    "                if np.isfinite(lon) and np.isfinite(lat):\n",
    "                    object_coords.append((lon, lat))\n",
    "\n",
    "        # If it's the end of the coordinates or NaN is encountered, calculate the center\n",
    "        if pd.isna(x) or pd.isna(y) or i == 8758:\n",
    "            if object_coords:  # If there are valid coordinates, compute the center\n",
    "                # Calculate the centroid\n",
    "                centroid_lon = np.mean([coord[0] for coord in object_coords])\n",
    "                centroid_lat = np.mean([coord[1] for coord in object_coords])\n",
    "                centroid = Point(centroid_lon, centroid_lat)\n",
    "\n",
    "                # Create the GeoJSON feature for the point\n",
    "                feature = {\n",
    "                    \"type\": \"Feature\",\n",
    "                    \"geometry\": centroid,\n",
    "                    \"properties\": {\n",
    "                        \"Class\": row['Class']\n",
    "                    }\n",
    "                }\n",
    "                geojson_features.append(feature)\n",
    "            object_coords = []\n",
    "\n",
    "# Extract geometries and properties for GeoDataFrame\n",
    "geometries = [feature['geometry'] for feature in geojson_features]\n",
    "properties = [feature['properties'] for feature in geojson_features]\n",
    "\n",
    "# Create a GeoDataFrame using the geometries and properties\n",
    "gdf_final = gpd.GeoDataFrame(properties, geometry=geometries, crs=\"EPSG:4326\")\n",
    "\n",
    "# Transform the GeoDataFrame to EPSG:3857 (Web Mercator)\n",
    "gdf_final = gdf_final.to_crs(epsg=3857)\n",
    "\n",
    "# Save the GeoDataFrame as a shapefile\n",
    "gdf_final.to_file(os.path.join(os.path.dirname(csv_file),\n",
    "                               str.split(os.path.basename(csv_file),'.')[0] + '.shp'))\n",
    "\n",
    "# Optional: Print the first 5 rows of the GeoDataFrame to verify\n",
    "print(gdf_final.head())\n",
    "\n",
    "\n",
    "print(degrees_per_pixel(17))"
   ]
  },
  {
   "cell_type": "code",
   "execution_count": 51,
   "id": "0d1be9fe",
   "metadata": {},
   "outputs": [
    {
     "data": {
      "text/plain": [
       "'/home/nirzaree/Data/ponds_and_wells/18/around_masalia/around_masalia.shp'"
      ]
     },
     "execution_count": 51,
     "metadata": {},
     "output_type": "execute_result"
    }
   ],
   "source": [
    "os.path.join(os.path.dirname(csv_file),\n",
    "      str.split(os.path.basename(csv_file),'.')[0] + '.shp'\n",
    ")\n"
   ]
  },
  {
   "cell_type": "code",
   "execution_count": null,
   "id": "fa323f48",
   "metadata": {},
   "outputs": [],
   "source": []
  }
 ],
 "metadata": {
  "colab": {
   "collapsed_sections": [
    "4yvyzdtTw1_O",
    "XjBlPtqdw_R1",
    "cZPWBJ87xOn6",
    "11a13c2e",
    "Ne9xDjh8DI1Z"
   ],
   "machine_shape": "hm",
   "provenance": []
  },
  "kernelspec": {
   "display_name": ".venv",
   "language": "python",
   "name": "python3"
  },
  "language_info": {
   "codemirror_mode": {
    "name": "ipython",
    "version": 3
   },
   "file_extension": ".py",
   "mimetype": "text/x-python",
   "name": "python",
   "nbconvert_exporter": "python",
   "pygments_lexer": "ipython3",
   "version": "3.12.3"
  }
 },
 "nbformat": 4,
 "nbformat_minor": 5
}
